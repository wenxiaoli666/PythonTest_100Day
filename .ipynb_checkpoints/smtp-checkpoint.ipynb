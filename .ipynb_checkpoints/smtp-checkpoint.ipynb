{
 "cells": [
  {
   "cell_type": "code",
   "execution_count": null,
   "metadata": {},
   "outputs": [],
   "source": [
    "from smtplib import SMTP\n",
    "from email.header import Header\n",
    "from email.mime.text import MIMEText\n",
    "\n",
    "def main():\n",
    "    #create email\n",
    "    sender = 'xxxxxxx@163.com'\n",
    "    receivers = 'yyyyyyyyyyyyy@163.com'\n",
    "    message = MIMEText('This is test email','plain','utf-8')\n",
    "    message['From'] = Header('wenxiaoli001','utf-8')\n",
    "    message['To'] = Header('Siri','utf-8')\n",
    "    message['Subject'] = Header('Test email','utf-8')\n",
    "    smtper = SMTP('smtp.163.com')\n",
    "    \n",
    "    #send eamil\n",
    "    smtper.login(sender,'password')\n",
    "    smtper.sendmail(sender,receivers,message.as_string())\n",
    "    print('send mail success')\n",
    "\n",
    "if __name__ == '__main__':\n",
    "    main()"
   ]
  }
 ],
 "metadata": {
  "kernelspec": {
   "display_name": "Python 3",
   "language": "python",
   "name": "python3"
  },
  "language_info": {
   "codemirror_mode": {
    "name": "ipython",
    "version": 3
   },
   "file_extension": ".py",
   "mimetype": "text/x-python",
   "name": "python",
   "nbconvert_exporter": "python",
   "pygments_lexer": "ipython3",
   "version": "3.7.0"
  }
 },
 "nbformat": 4,
 "nbformat_minor": 2
}
